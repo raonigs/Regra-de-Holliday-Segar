{
 "cells": [
  {
   "cell_type": "code",
   "execution_count": null,
   "id": "50f1587d",
   "metadata": {},
   "outputs": [],
   "source": [
    "def hollidaysegar(peso):\n",
    "    print(f'\\nReposição Hídrica e Calórica: SG 5% para peso: {peso}kg\\n')\n",
    "    if peso <= 10:\n",
    "        sd = float(peso) % 10  # Extrai o número após o ponto decimal\n",
    "        reposicao = peso * 100\n",
    "        sodio = peso*3\n",
    "        potassio = peso*2\n",
    "        \n",
    "        \n",
    "    elif peso > 10 and peso < 20:\n",
    "        sd = float(peso) % 10  # Extrai o número após o ponto decimal\n",
    "        reposicao = (1000 + (sd * 50))\n",
    "        sm = float(peso) % 10  # Extrai o número após o ponto decimal\n",
    "        sodio = (30 + (sm*2))\n",
    "        sp = float(peso) % 10  # Extrai o número após o ponto decimal\n",
    "        potassio = (20 + (sp*1))\n",
    "        \n",
    "    elif peso >= 20:\n",
    "        sd = float(peso) % 10  # Extrai o número após o ponto decimal\n",
    "        reposicao = (1500 + (sd * 20))\n",
    "        sm = float(peso) % 10  # Extrai o número após o ponto decimal\n",
    "        sodio = (50 + (sm*1))\n",
    "        sp = float(peso) % 10  # Extrai o número após o ponto decimal\n",
    "        potassio = (30 + (sp*0.5))\n",
    "        \n",
    "    print(f'A Reposição Hídrica será: {round(reposicao,2)}mL de Hidratação\\n\\nA reposição de Sódio (NaCl 20%) é de: {round(sodio/3.4,2)}mL\\n\\nA reposição de Potássio (KCL 10%) é de: {round(potassio/1.3)}mL\\n\\nTOTAL: {round(reposicao+(sodio/3.4)+(potassio/1.3),2)}mL')"
   ]
  },
  {
   "cell_type": "code",
   "execution_count": null,
   "id": "d2fe8980",
   "metadata": {},
   "outputs": [],
   "source": [
    "hollidaysegar()"
   ]
  }
 ],
 "metadata": {
  "kernelspec": {
   "display_name": "Python 3 (ipykernel)",
   "language": "python",
   "name": "python3"
  },
  "language_info": {
   "codemirror_mode": {
    "name": "ipython",
    "version": 3
   },
   "file_extension": ".py",
   "mimetype": "text/x-python",
   "name": "python",
   "nbconvert_exporter": "python",
   "pygments_lexer": "ipython3",
   "version": "3.10.9"
  }
 },
 "nbformat": 4,
 "nbformat_minor": 5
}
